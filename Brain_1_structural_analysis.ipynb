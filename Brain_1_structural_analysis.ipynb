{
 "cells": [
  {
   "cell_type": "code",
   "execution_count": 2,
   "metadata": {},
   "outputs": [],
   "source": [
    "import numpy as np\n",
    "import seaborn as sns\n",
    "import matplotlib.pyplot as plt\n",
    "import structural as stru\n",
    "from scipy.io import loadmat"
   ]
  },
  {
   "cell_type": "markdown",
   "metadata": {},
   "source": [
    "## Model source: https://complexsystemsupenn.com/codedata\n",
    "The file contains the 24 individual networks created from streamline counts between 83 brain regions. In this notebook I going to look to just one model."
   ]
  },
  {
   "cell_type": "markdown",
   "metadata": {},
   "source": [
    "## Brain Data:"
   ]
  },
  {
   "cell_type": "code",
   "execution_count": 3,
   "metadata": {},
   "outputs": [],
   "source": [
    "brain_struct = loadmat('DataSets/Brain_1.mat')"
   ]
  },
  {
   "cell_type": "markdown",
   "metadata": {},
   "source": [
    "## Structural version"
   ]
  },
  {
   "cell_type": "code",
   "execution_count": 10,
   "metadata": {},
   "outputs": [],
   "source": [
    "brains = brain_struct['matrix']\n",
    "brains_stru = (np.where(brains!=0,1,brains))"
   ]
  },
  {
   "cell_type": "markdown",
   "metadata": {},
   "source": [
    "## Structural matrix"
   ]
  },
  {
   "cell_type": "code",
   "execution_count": 14,
   "metadata": {},
   "outputs": [
    {
     "data": {
      "image/png": "[encoded data removed]",
      "text/plain": [
       "<Figure size 432x288 with 2 Axes>"
      ]
     },
     "metadata": {
      "needs_background": "light"
     },
     "output_type": "display_data"
    }
   ],
   "source": [
    "sns.heatmap(brains_stru,cmap=\"YlGnBu\",vmin=0, vmax=3)\n",
    "plt.show()"
   ]
  },
  {
   "cell_type": "markdown",
   "metadata": {},
   "source": [
    "# Control Profile:"
   ]
  },
  {
   "cell_type": "code",
   "execution_count": 6,
   "metadata": {},
   "outputs": [
    {
     "data": {
      "text/plain": [
       "(0.0, 0.0, 1.0)"
      ]
     },
     "execution_count": 6,
     "metadata": {},
     "output_type": "execute_result"
    }
   ],
   "source": [
    "stru.control_profile(brains)"
   ]
  },
  {
   "cell_type": "markdown",
   "metadata": {},
   "source": [
    "# Degrees of each node:"
   ]
  },
  {
   "cell_type": "code",
   "execution_count": 7,
   "metadata": {},
   "outputs": [],
   "source": [
    "in_,out_ = stru.degree(brains)"
   ]
  },
  {
   "cell_type": "markdown",
   "metadata": {},
   "source": [
    "## Looks to the minimum number of driver nodes:"
   ]
  },
  {
   "cell_type": "code",
   "execution_count": 15,
   "metadata": {},
   "outputs": [
    {
     "name": "stdout",
     "output_type": "stream",
     "text": [
      "{(43, 126), (75, 158), (69, 152), (28, 111), (45, 128), (3, 86), (19, 102), (0, 83), (38, 121), (54, 137), (40, 123), (59, 142), (18, 101), (50, 133), (53, 136), (44, 127), (1, 84), (35, 118), (41, 124), (4, 87), (20, 103), (26, 109), (58, 141), (61, 144), (11, 94), (47, 130), (30, 113), (62, 145), (33, 116), (71, 154), (2, 85), (66, 149), (52, 135), (8, 91), (42, 125), (27, 110), (48, 131), (82, 165), (12, 95), (46, 129), (65, 148), (55, 138), (9, 92), (6, 89), (22, 105), (70, 153), (56, 139), (17, 100), (79, 162), (60, 143), (7, 90), (23, 106), (64, 147), (25, 108), (10, 93), (74, 157), (63, 146), (80, 163), (14, 97), (78, 161), (13, 96), (39, 122), (32, 115), (73, 156), (68, 151), (49, 132), (15, 98), (81, 164), (5, 88), (21, 104), (67, 150), (57, 140), (36, 119), (72, 155), (31, 114), (16, 99), (37, 120), (76, 159), (77, 160), (51, 134), (34, 117), (24, 107), (29, 112)}\n"
     ]
    }
   ],
   "source": [
    "max_match,node_to_control = stru.MDNS(brains)"
   ]
  }
 ],
 "metadata": {
  "kernelspec": {
   "display_name": "Python 3",
   "language": "python",
   "name": "python3"
  },
  "language_info": {
   "codemirror_mode": {
    "name": "ipython",
    "version": 3
   },
   "file_extension": ".py",
   "mimetype": "text/x-python",
   "name": "python",
   "nbconvert_exporter": "python",
   "pygments_lexer": "ipython3",
   "version": "3.7.4"
  }
 },
 "nbformat": 4,
 "nbformat_minor": 4
}
